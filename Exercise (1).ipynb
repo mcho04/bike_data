{
  "cells": [
    {
      "cell_type": "code",
      "source": [
        "# Syntax for functions\n",
        "\n",
        "read_csv(\"filename.csv\")\n",
        "# Used to read CSV files into R as a data frame\n",
        "\n",
        "select(data, column1, column2, ...)\n",
        "# Used to pick specific columns from a data frame\n",
        "\n",
        "mutate(data, new_column = expression)\n",
        "# Used to create or modify columns\n",
        "\n",
        "filter(data, condition)\n",
        "# Used to filter rows based on a condition\n",
        "\n",
        "ggplot(data, aes(x = variable1, y = variable2)) + # Generates scatterplot\n",
        "  geom_point() +\n",
        "  xlab(\"x \") + # x-axis name\n",
        "  ylab(\"\") + # y-axis name\n",
        "  theme(text = element_text()) # size of text"
      ],
      "metadata": {
        "id": "Z68X7UiUGQEg"
      },
      "execution_count": null,
      "outputs": []
    },
    {
      "cell_type": "code",
      "execution_count": null,
      "metadata": {
        "vscode": {
          "languageId": "r"
        },
        "id": "szrgIMmveQy1"
      },
      "outputs": [],
      "source": [
        "#Load Tidyverse into R!\n",
        "\n",
        "library(tidyverse)"
      ]
    },
    {
      "cell_type": "markdown",
      "metadata": {
        "id": "ac6Vqzx3eQy5"
      },
      "source": [
        "#  **1. Bike-Sharing (Given Scenario)**\n",
        "\n",
        "Bike-sharing is a growing, eco-friendly transportation option that promotes health and helps reduce climate impact.\n",
        "\n",
        "\n",
        "\n",
        "Unlike buses or subways, bike-share systems record detailed trip data, including start/end locations and duration, enabling rich analysis of city mobility patterns.\n",
        "Today, we’ll explore data from Capital Bikeshare in Washington, DC. Our goal is to examine whether **temperature affects bike rentals** during Spring (March 20–June 21).\n"
      ]
    },
    {
      "cell_type": "markdown",
      "source": [
        "### **Question 1.1**\n",
        "\n",
        "We alreadyt have `tidyverse` loaded and ready to use, the first step is to read our new data. Add in the missing function to complete the cell below. Make sure to assign your answer to `bike_data`."
      ],
      "metadata": {
        "id": "jo37WlEqioDJ"
      }
    },
    {
      "cell_type": "code",
      "execution_count": null,
      "metadata": {
        "vscode": {
          "languageId": "r"
        },
        "id": "fxmKGPrkeQy6"
      },
      "outputs": [],
      "source": [
        "# ... <- read_csv(\"...\")"
      ]
    },
    {
      "cell_type": "markdown",
      "source": [
        "### **Question 1.2**\n",
        "Mutate the data such that you have a new column called `total_users`. This column would be the sum of the `casual_users` and the `registered_users`. Assign your answer to an object called `bike_mutate`."
      ],
      "metadata": {
        "id": "nYGFaqADk-c1"
      }
    },
    {
      "cell_type": "code",
      "execution_count": null,
      "metadata": {
        "vscode": {
          "languageId": "r"
        },
        "id": "PX-5jPm4eQy7"
      },
      "outputs": [],
      "source": [
        "# ... <- mutate(...)"
      ]
    },
    {
      "cell_type": "markdown",
      "source": [
        "### **Question 1.3**\n",
        "Filter out the data to include information about rentals that were only made during `Spring`. Name your answer `bike_filter`."
      ],
      "metadata": {
        "id": "9eKzXZoZlfEw"
      }
    },
    {
      "cell_type": "code",
      "execution_count": null,
      "metadata": {
        "vscode": {
          "languageId": "r"
        },
        "id": "ZwjIYXfMeQy7"
      },
      "outputs": [],
      "source": [
        "# ... <- filter(...)"
      ]
    },
    {
      "cell_type": "markdown",
      "source": [
        "### **Question 1.4**\n",
        "Select the columns from the data that we wish to plot. Name your answer `bike_select`."
      ],
      "metadata": {
        "id": "5dPRnWS2lw43"
      }
    },
    {
      "cell_type": "code",
      "execution_count": null,
      "metadata": {
        "vscode": {
          "languageId": "r"
        },
        "id": "l1M-SPT2eQy7"
      },
      "outputs": [],
      "source": [
        "#... <- select(...)"
      ]
    },
    {
      "cell_type": "markdown",
      "source": [
        "### **Question 1.5**\n",
        "Plot the data as a scatter plot.\n",
        "\n",
        "Assign your plot to an object called `bike_plot_spring`.\n"
      ],
      "metadata": {
        "id": "b_Mn3DdJmKR3"
      }
    },
    {
      "cell_type": "code",
      "execution_count": null,
      "metadata": {
        "vscode": {
          "languageId": "r"
        },
        "id": "wHfEWd0xeQy7"
      },
      "outputs": [],
      "source": [
        "# ... <- ggplot(..., aes(x = ..., y = ...))"
      ]
    },
    {
      "cell_type": "markdown",
      "metadata": {
        "id": "IZg90OcDeQy8"
      },
      "source": [
        "# Q: Can we observe any relationship between the variables in the scatterplot?\n",
        "## (Goal: Examine whether temperature affects bike rentals during Spring)\n",
        "\n",
        "<details>\n",
        "  <summary>Answer</summary>\n",
        "\n",
        "  As the temperature increases, so does the number of total users for the Capital bike share system. Thus we see a postive relationship between these two variables.\n",
        "\n",
        "</details>"
      ]
    },
    {
      "cell_type": "markdown",
      "source": [
        "# Your Turn ! 🤖 (~20 mins)\n",
        "# **2. Bike-Sharing Continued**\n",
        "We are still going to continue working with Capital Bikeshare dataset.\n",
        "\n",
        "Unlike the exercise done in class, we now want to determine if there is a relationship between **temperature and amount of people renting bikes during Fall** (September 22nd - December 21st)\n",
        "\n",
        "Recall that there's no need to load the tidyverse or read in the data, as this has already been done above."
      ],
      "metadata": {
        "id": "H54AjlArVqoi"
      }
    },
    {
      "cell_type": "markdown",
      "source": [
        "### **Question 2.1**\n",
        "Again, mutate the data such that we have information on all the users. Make sure to save your answer to an object called `bike_mutated`, and make sure to create a column called `total_users`."
      ],
      "metadata": {
        "id": "OSb_KGZQdeA_"
      }
    },
    {
      "cell_type": "code",
      "source": [
        "# ... <- mutate(...)"
      ],
      "metadata": {
        "id": "fZcV6Jv9eNw9"
      },
      "execution_count": null,
      "outputs": []
    },
    {
      "cell_type": "markdown",
      "source": [
        "### **Question 2.2**\n",
        "\n",
        "Now, filter out the data to include information about rentals that were only made during `Fall` - assign this data frame to an object called `bike_filtered`. Next, select for the columns we wish to plot. Name your answer `bike_selected`."
      ],
      "metadata": {
        "id": "5FNAmjHmejDO"
      }
    },
    {
      "cell_type": "code",
      "source": [
        "# ... <- filter(..., ...)\n",
        "# ... <- select(..., ...)"
      ],
      "metadata": {
        "id": "nYnt9PDve6f-"
      },
      "execution_count": null,
      "outputs": []
    },
    {
      "cell_type": "markdown",
      "source": [
        "### **Question 2.3**\n",
        "\n",
        "Plot the data as a scatter plot. Label your x-axis: `Temperature (normalized degrees Celsius)` and your y-axis: `Total Users (Casual and Registered)`. Assign your plot to an object called `bike_plot_fall`.\n",
        "\n",
        "There is a lot missing from the cell below (no hints were given). Try completing this on your own before looking back at any previous exercises.\n",
        "\n"
      ],
      "metadata": {
        "id": "pHXQvc9DfEVt"
      }
    },
    {
      "cell_type": "code",
      "source": [
        "# ... <- ggplot(..., aes(x = ..., y = ...))"
      ],
      "metadata": {
        "id": "Hx7JUoV-gYY6"
      },
      "execution_count": null,
      "outputs": []
    },
    {
      "cell_type": "markdown",
      "source": [
        "# Q: Can we observe any relationship between the variables in the scatterplot for the fall season?"
      ],
      "metadata": {
        "id": "4_HaRO-Sgw3V"
      }
    },
    {
      "cell_type": "code",
      "source": [
        "# Try running this!\n",
        "library(IRdisplay)\n",
        "\n",
        "gif_url <- \"https://media.giphy.com/media/cEODGfeOYMRxK/giphy.gif?cid=ecf05e4785301np9owt7p856sr3hxf7y3az7170anhargle3&ep=v1_gifs_search&rid=giphy.gif&ct=g\"\n",
        "display_html(paste0(\"<img src='\", gif_url, \"'>\"))"
      ],
      "metadata": {
        "id": "vnkP-sgxg53K"
      },
      "execution_count": null,
      "outputs": []
    },
    {
      "cell_type": "code",
      "source": [],
      "metadata": {
        "id": "YvSKPWfehVEB"
      },
      "execution_count": null,
      "outputs": []
    }
  ],
  "metadata": {
    "kernelspec": {
      "display_name": "R",
      "language": "R",
      "name": "ir"
    },
    "language_info": {
      "codemirror_mode": "r",
      "file_extension": ".r",
      "mimetype": "text/x-r-source",
      "name": "R",
      "pygments_lexer": "r",
      "version": "4.3.1"
    },
    "colab": {
      "provenance": []
    }
  },
  "nbformat": 4,
  "nbformat_minor": 0
}